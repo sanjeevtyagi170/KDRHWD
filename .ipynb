{
 "cells": [
  {
   "cell_type": "markdown",
   "metadata": {},
   "source": [
    "# IMAGE CLASSIFICATION KAGGLE"
   ]
  },
  {
   "cell_type": "markdown",
   "metadata": {},
   "source": [
    "# Importing Libraries"
   ]
  },
  {
   "cell_type": "code",
   "execution_count": 1,
   "metadata": {},
   "outputs": [
    {
     "ename": "ModuleNotFoundError",
     "evalue": "No module named 'tensorflow'",
     "output_type": "error",
     "traceback": [
      "\u001b[1;31m---------------------------------------------------------------------------\u001b[0m",
      "\u001b[1;31mModuleNotFoundError\u001b[0m                       Traceback (most recent call last)",
      "\u001b[1;32m<ipython-input-1-3815fe415f62>\u001b[0m in \u001b[0;36m<module>\u001b[1;34m\u001b[0m\n\u001b[0;32m      8\u001b[0m \u001b[0mget_ipython\u001b[0m\u001b[1;33m(\u001b[0m\u001b[1;33m)\u001b[0m\u001b[1;33m.\u001b[0m\u001b[0mrun_line_magic\u001b[0m\u001b[1;33m(\u001b[0m\u001b[1;34m'matplotlib'\u001b[0m\u001b[1;33m,\u001b[0m \u001b[1;34m'inline'\u001b[0m\u001b[1;33m)\u001b[0m\u001b[1;33m\u001b[0m\u001b[1;33m\u001b[0m\u001b[0m\n\u001b[0;32m      9\u001b[0m \u001b[1;32mfrom\u001b[0m \u001b[0msklearn\u001b[0m\u001b[1;33m.\u001b[0m\u001b[0mmetrics\u001b[0m \u001b[1;32mimport\u001b[0m \u001b[0mclassification_report\u001b[0m\u001b[1;33m,\u001b[0m\u001b[0mconfusion_matrix\u001b[0m\u001b[1;33m\u001b[0m\u001b[1;33m\u001b[0m\u001b[0m\n\u001b[1;32m---> 10\u001b[1;33m \u001b[1;32mimport\u001b[0m \u001b[0mtensorflow\u001b[0m \u001b[1;32mas\u001b[0m \u001b[0mtf\u001b[0m\u001b[1;33m\u001b[0m\u001b[1;33m\u001b[0m\u001b[0m\n\u001b[0m",
      "\u001b[1;31mModuleNotFoundError\u001b[0m: No module named 'tensorflow'"
     ]
    }
   ],
   "source": [
    "import numpy as np\n",
    "import pandas as pd\n",
    "import matplotlib.pyplot as plt\n",
    "from sklearn.svm import SVC\n",
    "from sklearn.tree import DecisionTreeClassifier\n",
    "from sklearn.ensemble import RandomForestClassifier\n",
    "from sklearn.neighbors import KNeighborsClassifier\n",
    "%matplotlib inline\n",
    "from sklearn.metrics import classification_report,confusion_matrix\n",
    "import tensorflow as tf"
   ]
  },
  {
   "cell_type": "code",
   "execution_count": 11,
   "metadata": {
    "collapsed": true
   },
   "outputs": [],
   "source": [
    "data=pd.read_csv(\"train.csv\").as_matrix()\n",
    "datatest=pd.read_csv(\"test.csv\").as_matrix()"
   ]
  },
  {
   "cell_type": "markdown",
   "metadata": {},
   "source": [
    "# Training Data"
   ]
  },
  {
   "cell_type": "code",
   "execution_count": 11,
   "metadata": {
    "collapsed": true
   },
   "outputs": [],
   "source": [
    "#Train-Test Split\n",
    "xtrain=data[0:22000,1:]\n",
    "train_label=data[0:22000,0]\n",
    "xtest=data[22000:,1:]\n",
    "actual_label=data[22000:,0]"
   ]
  },
  {
   "cell_type": "code",
   "execution_count": 12,
   "metadata": {},
   "outputs": [
    {
     "data": {
      "text/plain": [
       "array([7, 8, 8, ..., 7, 6, 9], dtype=int64)"
      ]
     },
     "execution_count": 12,
     "metadata": {},
     "output_type": "execute_result"
    }
   ],
   "source": [
    "#Assigning the classifier\n",
    "clfdt=DecisionTreeClassifier()\n",
    "\n",
    "#Validation on Testing Data\n",
    "clfdt.fit(xtrain,train_label)\n",
    "\n",
    "#Predcitions\n",
    "predictions=clfdt.predict(xtest)\n",
    "predictions"
   ]
  },
  {
   "cell_type": "code",
   "execution_count": 13,
   "metadata": {
    "collapsed": true
   },
   "outputs": [],
   "source": [
    "#Saving Results to a file\n",
    "file=pd.DataFrame(predictions)\n",
    "file.index.name='ImageId'\n",
    "file.columns=['Label']\n",
    "file.to_csv('sample_submission_train.csv')"
   ]
  },
  {
   "cell_type": "markdown",
   "metadata": {},
   "source": [
    "# Accuracy and Confusion Matrix "
   ]
  },
  {
   "cell_type": "code",
   "execution_count": 14,
   "metadata": {},
   "outputs": [
    {
     "name": "stdout",
     "output_type": "stream",
     "text": [
      "             precision    recall  f1-score   support\n",
      "\n",
      "          0       0.92      0.91      0.91      1997\n",
      "          1       0.92      0.94      0.93      2219\n",
      "          2       0.79      0.81      0.80      1960\n",
      "          3       0.81      0.77      0.79      2060\n",
      "          4       0.82      0.84      0.83      1905\n",
      "          5       0.79      0.78      0.78      1805\n",
      "          6       0.88      0.85      0.87      1961\n",
      "          7       0.87      0.88      0.88      2123\n",
      "          8       0.76      0.77      0.77      1957\n",
      "          9       0.80      0.81      0.81      2013\n",
      "\n",
      "avg / total       0.84      0.84      0.84     20000\n",
      "\n"
     ]
    }
   ],
   "source": [
    "#Finding the Accuracy of the model\n",
    "print(classification_report(actual_label,predictions))"
   ]
  },
  {
   "cell_type": "code",
   "execution_count": 15,
   "metadata": {},
   "outputs": [
    {
     "name": "stdout",
     "output_type": "stream",
     "text": [
      "[[1813    3   22   22   12   31   34   10   34   16]\n",
      " [   1 2080   26   24   12    7   10   18   33    8]\n",
      " [  27   26 1589   64   35   30   40   51   70   28]\n",
      " [  22   20   97 1590   22   90   17   47  107   48]\n",
      " [   9   16   30   24 1598   20   26   35   40  107]\n",
      " [  24   24   32  103   30 1406   57   18   64   47]\n",
      " [  27   16   34   13   44   79 1674    3   55   16]\n",
      " [   6    9   56   23   26   26    6 1872   21   78]\n",
      " [  26   50   75   64   58   53   33   29 1506   63]\n",
      " [  11   13   51   38  100   44    7   71   40 1638]]\n"
     ]
    }
   ],
   "source": [
    "print(confusion_matrix(actual_label,predictions))"
   ]
  },
  {
   "cell_type": "markdown",
   "metadata": {},
   "source": [
    "# Testing Data"
   ]
  },
  {
   "cell_type": "code",
   "execution_count": 16,
   "metadata": {
    "collapsed": true
   },
   "outputs": [],
   "source": [
    "#Train-Test split\n",
    "X_train=data[:,1:]\n",
    "y_train=data[:,0]\n",
    "X_test=datatest"
   ]
  },
  {
   "cell_type": "markdown",
   "metadata": {},
   "source": [
    "# Decision Tree Classifier with Accuracy of 85.628 %"
   ]
  },
  {
   "cell_type": "code",
   "execution_count": 18,
   "metadata": {},
   "outputs": [
    {
     "data": {
      "text/plain": [
       "array([2, 2, 9, ..., 3, 9, 2], dtype=int64)"
      ]
     },
     "execution_count": 18,
     "metadata": {},
     "output_type": "execute_result"
    }
   ],
   "source": [
    "#Assigning the classifier\n",
    "clftest=DecisionTreeClassifier()\n",
    "\n",
    "#Validation on Testing Data\n",
    "clftest.fit(X_train,y_train)\n",
    "#Predcitions\n",
    "predictions=clftest.predict(X_test)\n",
    "predictions"
   ]
  },
  {
   "cell_type": "code",
   "execution_count": 19,
   "metadata": {
    "collapsed": true
   },
   "outputs": [],
   "source": [
    "#Saving Results to a file\n",
    "file=pd.DataFrame(predictions)\n",
    "file.index+=1\n",
    "file.index.name='ImageId'\n",
    "file.columns=['Label']\n",
    "file.to_csv('sample_submission_test_tree.csv')\n",
    "#Accuracy of 85.628 %"
   ]
  },
  {
   "cell_type": "code",
   "execution_count": 20,
   "metadata": {
    "collapsed": true
   },
   "outputs": [],
   "source": [
    "#Testing how is it working\n",
    "#d=xtest[10]\n",
    "#d=d.reshape(28,28)\n",
    "#plt.imshow(d,cmap='gray')\n",
    "#print(clfdt.predict([xtest[10]]))"
   ]
  },
  {
   "cell_type": "markdown",
   "metadata": {},
   "source": [
    "# Random Forest Classifier Accuracy of 93.914 %"
   ]
  },
  {
   "cell_type": "code",
   "execution_count": 17,
   "metadata": {
    "collapsed": true
   },
   "outputs": [],
   "source": [
    "rfc=RandomForestClassifier()\n",
    "rfc.fit(X_train,y_train)\n",
    "predictions=rfc.predict(X_test)"
   ]
  },
  {
   "cell_type": "code",
   "execution_count": 18,
   "metadata": {
    "collapsed": true
   },
   "outputs": [],
   "source": [
    "file=pd.DataFrame(predictions)\n",
    "file.index+=1\n",
    "file.index.name='ImageId'\n",
    "file.columns=['Label']\n",
    "file.to_csv('sample_submission_test_rfc.csv')\n",
    "#Accuracy of 93.914 %"
   ]
  },
  {
   "cell_type": "markdown",
   "metadata": {},
   "source": [
    "   # Random Forest Classifier with n_estimtors=100 Accuracy of 96.528 %"
   ]
  },
  {
   "cell_type": "code",
   "execution_count": 19,
   "metadata": {
    "collapsed": true
   },
   "outputs": [],
   "source": [
    "rfcn=RandomForestClassifier(n_estimators=100)\n",
    "rfcn.fit(X_train,y_train)\n",
    "predictions=rfcn.predict(X_test)"
   ]
  },
  {
   "cell_type": "code",
   "execution_count": 20,
   "metadata": {
    "collapsed": true
   },
   "outputs": [],
   "source": [
    "file=pd.DataFrame(predictions)\n",
    "file.index+=1\n",
    "file.index.name='ImageId'\n",
    "file.columns=['Label']\n",
    "file.to_csv('sample_submission_test_rfcn.csv')\n",
    "#Accuracy of 96.528 %"
   ]
  },
  {
   "cell_type": "markdown",
   "metadata": {},
   "source": [
    "# KNN Classifier Accuracy of 96.557 %\n",
    "Will take atleast half an hour to run"
   ]
  },
  {
   "cell_type": "code",
   "execution_count": 6,
   "metadata": {
    "collapsed": true
   },
   "outputs": [],
   "source": [
    "knnc=KNeighborsClassifier(n_neighbors=10)\n",
    "knnc.fit(X_train,y_train)\n",
    "predictions=knnc.predict(X_test)"
   ]
  },
  {
   "cell_type": "code",
   "execution_count": 8,
   "metadata": {
    "collapsed": true
   },
   "outputs": [],
   "source": [
    "file=pd.DataFrame(predictions)\n",
    "file.index+=1\n",
    "file.index.name='ImageId'\n",
    "file.columns=['Label']\n",
    "file.to_csv('sample_submission_test_knnc.csv')\n",
    "# Accuracy of 96.557 %"
   ]
  },
  {
   "cell_type": "markdown",
   "metadata": {},
   "source": [
    "# Support Vector Machine Classifier Accuracy 11.614 % Worst Case\n",
    "will take 6 hours on this machine"
   ]
  },
  {
   "cell_type": "code",
   "execution_count": 21,
   "metadata": {
    "collapsed": true
   },
   "outputs": [],
   "source": [
    "clfsvm=SVC(C=100,gamma=0.001)"
   ]
  },
  {
   "cell_type": "code",
   "execution_count": null,
   "metadata": {
    "collapsed": true
   },
   "outputs": [],
   "source": [
    "#clfsvm.fit(X_train,y_train)"
   ]
  },
  {
   "cell_type": "code",
   "execution_count": null,
   "metadata": {
    "collapsed": true
   },
   "outputs": [],
   "source": [
    "#Predcitions\n",
    "#predictions=clfsvm.predict(X_test)\n",
    "#predictions"
   ]
  },
  {
   "cell_type": "code",
   "execution_count": null,
   "metadata": {
    "collapsed": true
   },
   "outputs": [],
   "source": [
    "file=pd.DataFrame(predictions)\n",
    "file.index+=1\n",
    "file.index.name='ImageId'\n",
    "file.columns=['Label']\n",
    "file.to_csv('sample_submission_test_svm.csv')\n",
    "#Accuracy 11.614 %"
   ]
  },
  {
   "cell_type": "markdown",
   "metadata": {
    "collapsed": true
   },
   "source": [
    "# Artificial Neural Networks Classification"
   ]
  },
  {
   "cell_type": "code",
   "execution_count": null,
   "metadata": {
    "collapsed": true
   },
   "outputs": [],
   "source": []
  }
 ],
 "metadata": {
  "kernelspec": {
   "display_name": "Python 3",
   "language": "python",
   "name": "python3"
  },
  "language_info": {
   "codemirror_mode": {
    "name": "ipython",
    "version": 3
   },
   "file_extension": ".py",
   "mimetype": "text/x-python",
   "name": "python",
   "nbconvert_exporter": "python",
   "pygments_lexer": "ipython3",
   "version": "3.7.6"
  }
 },
 "nbformat": 4,
 "nbformat_minor": 2
}
